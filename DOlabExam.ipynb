{
  "nbformat": 4,
  "nbformat_minor": 0,
  "metadata": {
    "colab": {
      "provenance": [],
      "authorship_tag": "ABX9TyNmdztX6qw7b1/HcCOhbiR0",
      "include_colab_link": true
    },
    "kernelspec": {
      "name": "python3",
      "display_name": "Python 3"
    },
    "language_info": {
      "name": "python"
    }
  },
  "cells": [
    {
      "cell_type": "markdown",
      "metadata": {
        "id": "view-in-github",
        "colab_type": "text"
      },
      "source": [
        "<a href=\"https://colab.research.google.com/github/sirisindhu07/LabExam_DO/blob/main/DOlabExam.ipynb\" target=\"_parent\"><img src=\"https://colab.research.google.com/assets/colab-badge.svg\" alt=\"Open In Colab\"/></a>"
      ]
    },
    {
      "cell_type": "code",
      "execution_count": 17,
      "metadata": {
        "id": "WIDFjv15GR1q"
      },
      "outputs": [],
      "source": [
        "import pandas as pd\n",
        "df = pd.read_excel(\"/content/Untitled spreadsheet.xlsx\")"
      ]
    },
    {
      "cell_type": "code",
      "source": [
        "print(\"Column Names:\", df.columns.tolist())"
      ],
      "metadata": {
        "colab": {
          "base_uri": "https://localhost:8080/"
        },
        "id": "ju8ugFgCHnxH",
        "outputId": "b581c967-66ad-4b60-f823-431cd82aa84e"
      },
      "execution_count": 18,
      "outputs": [
        {
          "output_type": "stream",
          "name": "stdout",
          "text": [
            "Column Names: ['Booking_ID', 'Customer_ID', 'Destination', 'Travel_Dates', 'Booking_Date', 'Number_of_Travelers', 'Travel_Package', 'Payment_Method', 'Total_Cost', 'Travel_Agent', 'Customer_Feedback']\n"
          ]
        }
      ]
    },
    {
      "cell_type": "code",
      "source": [
        "df.columns = df.columns.str.strip()"
      ],
      "metadata": {
        "id": "Q0ngkh_kHq6b"
      },
      "execution_count": 19,
      "outputs": []
    },
    {
      "cell_type": "code",
      "source": [
        "avg_cost_per_package = df.groupby(\"Travel_Package\")[\"Total_Cost\"].mean()\n",
        "print(\"\\nAverage Total Cost per Travel Package:\")\n",
        "print(avg_cost_per_package)"
      ],
      "metadata": {
        "colab": {
          "base_uri": "https://localhost:8080/"
        },
        "id": "DwIl0_RIJHHm",
        "outputId": "1f36a240-822a-48af-e342-78c6c7d3a8a1"
      },
      "execution_count": 30,
      "outputs": [
        {
          "output_type": "stream",
          "name": "stdout",
          "text": [
            "\n",
            "Average Total Cost per Travel Package:\n",
            "Travel_Package\n",
            "Luxury      53732.465158\n",
            "Premium     51603.118568\n",
            "Standard    52588.036084\n",
            "Name: Total_Cost, dtype: float64\n"
          ]
        }
      ]
    },
    {
      "cell_type": "code",
      "source": [
        "df[\"Travel_Dates\"] = pd.to_datetime(df[\"Travel_Dates\"], errors=\"coerce\")\n",
        "earliest_travel_date = df[\"Travel_Dates\"].min()\n",
        "latest_travel_date = df[\"Travel_Dates\"].max()\n",
        "print(\"\\nEarliest Travel Date:\", earliest_travel_date)\n",
        "print(\"Latest Travel Date:\", latest_travel_date)"
      ],
      "metadata": {
        "colab": {
          "base_uri": "https://localhost:8080/"
        },
        "id": "VhHD743MK8ul",
        "outputId": "ab44258b-408d-4f11-f7a9-7dea99f5d0fd"
      },
      "execution_count": 33,
      "outputs": [
        {
          "output_type": "stream",
          "name": "stdout",
          "text": [
            "\n",
            "Earliest Travel Date: 2023-08-20 20:25:00-02:00\n",
            "Latest Travel Date: 2024-08-16 20:25:00-02:00\n"
          ]
        }
      ]
    },
    {
      "cell_type": "code",
      "source": [
        "unique_destinations = df[\"Destination\"].nunique()\n",
        "print(\"\\nNumber of Unique Destinations:\", unique_destinations)"
      ],
      "metadata": {
        "colab": {
          "base_uri": "https://localhost:8080/"
        },
        "id": "YGg4zYohLSFY",
        "outputId": "e7142fdf-5c25-42b2-a24b-a289742cdd60"
      },
      "execution_count": 34,
      "outputs": [
        {
          "output_type": "stream",
          "name": "stdout",
          "text": [
            "\n",
            "Number of Unique Destinations: 858\n"
          ]
        }
      ]
    },
    {
      "cell_type": "code",
      "source": [
        "range1 = str(earliest_travel_date.date()) + \" to \" + str(latest_travel_date.date())\n",
        "print(\"\\nDate Range:\", range1)"
      ],
      "metadata": {
        "colab": {
          "base_uri": "https://localhost:8080/"
        },
        "id": "IycygaVALTF4",
        "outputId": "bc71c9b9-23b7-429f-8f31-4474f8f64a86"
      },
      "execution_count": 35,
      "outputs": [
        {
          "output_type": "stream",
          "name": "stdout",
          "text": [
            "\n",
            "Date Range: 2023-08-20 to 2024-08-16\n"
          ]
        }
      ]
    },
    {
      "cell_type": "code",
      "source": [
        "date_formats_consistent = df[\"Travel_Dates\"].notna().all()\n",
        "print(\"\\nDate Format Consistency:\", date_formats_consistent)"
      ],
      "metadata": {
        "colab": {
          "base_uri": "https://localhost:8080/"
        },
        "id": "ehHBjrsXLWJU",
        "outputId": "f5395847-e3a9-4510-f7e4-eba3b15afd7e"
      },
      "execution_count": 36,
      "outputs": [
        {
          "output_type": "stream",
          "name": "stdout",
          "text": [
            "\n",
            "Date Format Consistency: False\n"
          ]
        }
      ]
    }
  ]
}